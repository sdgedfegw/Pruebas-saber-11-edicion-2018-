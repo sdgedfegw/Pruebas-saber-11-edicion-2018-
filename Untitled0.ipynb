{
  "nbformat": 4,
  "nbformat_minor": 0,
  "metadata": {
    "colab": {
      "name": "Untitled0.ipynb",
      "provenance": [],
      "toc_visible": true,
      "include_colab_link": true
    },
    "kernelspec": {
      "name": "python3",
      "display_name": "Python 3"
    }
  },
  "cells": [
    {
      "cell_type": "markdown",
      "metadata": {
        "id": "view-in-github",
        "colab_type": "text"
      },
      "source": [
        "<a href=\"https://colab.research.google.com/github/ygalindofor/Pruebas-saber-11-edicion-2018-/blob/master/Untitled0.ipynb\" target=\"_parent\"><img src=\"https://colab.research.google.com/assets/colab-badge.svg\" alt=\"Open In Colab\"/></a>"
      ]
    },
    {
      "cell_type": "markdown",
      "metadata": {
        "id": "fYM8l5h4HA-7",
        "colab_type": "text"
      },
      "source": [
        "## import libs"
      ]
    },
    {
      "cell_type": "code",
      "metadata": {
        "id": "grSJUONQKI_H",
        "colab_type": "code",
        "colab": {}
      },
      "source": [
        "import pandas as pd"
      ],
      "execution_count": 0,
      "outputs": []
    },
    {
      "cell_type": "code",
      "metadata": {
        "id": "-M2tjtOaKbx_",
        "colab_type": "code",
        "colab": {}
      },
      "source": [
        "url = 'Saber_11__2018-2.csv'\n",
        "pruebasSaber11_df = pd.read_csv(url, sep=',', low_memory=False)\n",
        "\n"
      ],
      "execution_count": 0,
      "outputs": []
    },
    {
      "cell_type": "code",
      "metadata": {
        "id": "vWJ-DNgRPL_E",
        "colab_type": "code",
        "outputId": "c8caab0e-8a6d-4fbc-cc73-f35f1a8f4d9c",
        "colab": {
          "base_uri": "https://localhost:8080/",
          "height": 238
        }
      },
      "source": [
        "print(pruebasSaber11_df.head(10))"
      ],
      "execution_count": 0,
      "outputs": [
        {
          "output_type": "stream",
          "text": [
            "  ESTU_TIPODOCUMENTO  ...         ESTU_GENERACION-E\n",
            "0                 CR  ...                        NO\n",
            "1                 TI  ...  GENERACION E - GRATUIDAD\n",
            "2                 TI  ...  GENERACION E - GRATUIDAD\n",
            "3                 TI  ...                        NO\n",
            "4                 CC  ...  GENERACION E - GRATUIDAD\n",
            "5                 TI  ...                        NO\n",
            "6                 TI  ...                        NO\n",
            "7                 TI  ...                        NO\n",
            "8                 TI  ...                        NO\n",
            "9                 TI  ...  GENERACION E - GRATUIDAD\n",
            "\n",
            "[10 rows x 83 columns]\n"
          ],
          "name": "stdout"
        }
      ]
    },
    {
      "cell_type": "code",
      "metadata": {
        "id": "IwMvKcVPQztg",
        "colab_type": "code",
        "outputId": "0df31f64-9249-4853-880e-e5b7484d813f",
        "colab": {
          "base_uri": "https://localhost:8080/",
          "height": 238
        }
      },
      "source": [
        "pruebasSaber11_df = pruebasSaber11_df.iloc[:, [13,16, 22, 24, 64]]\n",
        "print(pruebasSaber11_df.head(10))"
      ],
      "execution_count": 0,
      "outputs": [
        {
          "output_type": "stream",
          "text": [
            "         ESTU_MCPIO_RESIDE  ... PUNT_MATEMATICAS\n",
            "0                  SOLEDAD  ...               69\n",
            "1                   LORICA  ...               50\n",
            "2                     CALI  ...               43\n",
            "3                    TUNJA  ...               60\n",
            "4              BOGOTÁ D.C.  ...               51\n",
            "5  EL LITORAL DEL SAN JUAN  ...               35\n",
            "6                   URIBIA  ...               49\n",
            "7          PUERTO COLOMBIA  ...               37\n",
            "8              MARQUETALIA  ...               63\n",
            "9                  DUITAMA  ...               51\n",
            "\n",
            "[10 rows x 5 columns]\n"
          ],
          "name": "stdout"
        }
      ]
    }
  ]
}