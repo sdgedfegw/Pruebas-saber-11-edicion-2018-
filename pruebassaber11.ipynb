{
  "nbformat": 4,
  "nbformat_minor": 0,
  "metadata": {
    "colab": {
      "name": "pruebassaber11.ipynb",
      "provenance": [],
      "toc_visible": true
    },
    "kernelspec": {
      "name": "python3",
      "display_name": "Python 3"
    }
  },
  "cells": [
    {
      "cell_type": "markdown",
      "metadata": {
        "id": "W-Dxk9NJ0jgQ",
        "colab_type": "text"
      },
      "source": [
        "# Analisis de los resultados de las pruebas saber 11 edicion 2018 a traves de tecnicas de mineria de datos"
      ]
    },
    {
      "cell_type": "markdown",
      "metadata": {
        "id": "rcsokugu1Cbj",
        "colab_type": "text"
      },
      "source": [
        "primero se importan las librerias necesarias"
      ]
    },
    {
      "cell_type": "markdown",
      "metadata": {
        "id": "fYM8l5h4HA-7",
        "colab_type": "text"
      },
      "source": [
        "### import libs"
      ]
    },
    {
      "cell_type": "code",
      "metadata": {
        "id": "grSJUONQKI_H",
        "colab_type": "code",
        "colab": {}
      },
      "source": [
        "import pandas as pd\n",
        "import seaborn as sns; sns.set(style=\"whitegrid\", font_scale=1.5)\n",
        "import matplotlib.pyplot as plt"
      ],
      "execution_count": 0,
      "outputs": []
    },
    {
      "cell_type": "markdown",
      "metadata": {
        "id": "ufO4HbGk-xeO",
        "colab_type": "text"
      },
      "source": [
        "### Lectura del Dataset"
      ]
    },
    {
      "cell_type": "markdown",
      "metadata": {
        "id": "4BHtUTvb1ogq",
        "colab_type": "text"
      },
      "source": [
        "Luego para la lectura del dataset a traves de la libreria pandas como pd lo podemos leer, ya que en este caso es un .csv se lee con pd.read_csv\n",
        "\n",
        "Fuera un .json o otro tipo de dataset la sintaxis no es que cambie mucho "
      ]
    },
    {
      "cell_type": "markdown",
      "metadata": {
        "id": "4IjBs2-t2WcR",
        "colab_type": "text"
      },
      "source": [
        "### json       pd.read_json()\n",
        "### excel      pd.read_excel()\n",
        "### sql        pd.read_sql()\n"
      ]
    },
    {
      "cell_type": "markdown",
      "metadata": {
        "id": "v46I9DQi3hjk",
        "colab_type": "text"
      },
      "source": [
        "hay que tener encuenta con que caracter estan separados los datos en este caso es con , y por ello se añade la sintaxis sep=','"
      ]
    },
    {
      "cell_type": "markdown",
      "metadata": {
        "id": "EP87LmRd43y8",
        "colab_type": "text"
      },
      "source": [
        "low_memory=False    Es un parametro que funciona para la limpieza de los datos"
      ]
    },
    {
      "cell_type": "code",
      "metadata": {
        "id": "-M2tjtOaKbx_",
        "colab_type": "code",
        "colab": {}
      },
      "source": [
        "url = 'Saber_11__2018-2.csv'\n",
        "pruebasSaber11_df = pd.read_csv(url, sep=',', low_memory=False)\n",
        "\n"
      ],
      "execution_count": 0,
      "outputs": []
    },
    {
      "cell_type": "markdown",
      "metadata": {
        "id": "xNBGicXn-_E1",
        "colab_type": "text"
      },
      "source": [
        "a traves de df.head(n) se puede mostrar las primeras filas del dataset\n"
      ]
    },
    {
      "cell_type": "code",
      "metadata": {
        "id": "vWJ-DNgRPL_E",
        "colab_type": "code",
        "outputId": "5a1752c5-a6eb-415f-a1fb-3f3cc5a2d898",
        "colab": {
          "base_uri": "https://localhost:8080/",
          "height": 935
        }
      },
      "source": [
        "pruebasSaber11_df.head(10)"
      ],
      "execution_count": 4,
      "outputs": [
        {
          "output_type": "execute_result",
          "data": {
            "text/html": [
              "<div>\n",
              "<style scoped>\n",
              "    .dataframe tbody tr th:only-of-type {\n",
              "        vertical-align: middle;\n",
              "    }\n",
              "\n",
              "    .dataframe tbody tr th {\n",
              "        vertical-align: top;\n",
              "    }\n",
              "\n",
              "    .dataframe thead th {\n",
              "        text-align: right;\n",
              "    }\n",
              "</style>\n",
              "<table border=\"1\" class=\"dataframe\">\n",
              "  <thead>\n",
              "    <tr style=\"text-align: right;\">\n",
              "      <th></th>\n",
              "      <th>ESTU_TIPODOCUMENTO</th>\n",
              "      <th>ESTU_NACIONALIDAD</th>\n",
              "      <th>ESTU_GENERO</th>\n",
              "      <th>ESTU_FECHANACIMIENTO</th>\n",
              "      <th>PERIODO</th>\n",
              "      <th>ESTU_CONSECUTIVO</th>\n",
              "      <th>ESTU_ESTUDIANTE</th>\n",
              "      <th>ESTU_PAIS_RESIDE</th>\n",
              "      <th>ESTU_TIENEETNIA</th>\n",
              "      <th>ESTU_ETNIA</th>\n",
              "      <th>ESTU_LIMITA_MOTRIZ</th>\n",
              "      <th>ESTU_DEPTO_RESIDE</th>\n",
              "      <th>ESTU_COD_RESIDE_DEPTO</th>\n",
              "      <th>ESTU_MCPIO_RESIDE</th>\n",
              "      <th>ESTU_COD_RESIDE_MCPIO</th>\n",
              "      <th>FAMI_ESTRATOVIVIENDA</th>\n",
              "      <th>FAMI_PERSONASHOGAR</th>\n",
              "      <th>FAMI_CUARTOSHOGAR</th>\n",
              "      <th>FAMI_EDUCACIONPADRE</th>\n",
              "      <th>FAMI_EDUCACIONMADRE</th>\n",
              "      <th>FAMI_TRABAJOLABORPADRE</th>\n",
              "      <th>FAMI_TRABAJOLABORMADRE</th>\n",
              "      <th>FAMI_TIENEINTERNET</th>\n",
              "      <th>FAMI_TIENESERVICIOTV</th>\n",
              "      <th>FAMI_TIENECOMPUTADOR</th>\n",
              "      <th>FAMI_TIENELAVADORA</th>\n",
              "      <th>FAMI_TIENEHORNOMICROOGAS</th>\n",
              "      <th>FAMI_TIENEAUTOMOVIL</th>\n",
              "      <th>FAMI_TIENEMOTOCICLETA</th>\n",
              "      <th>FAMI_TIENECONSOLAVIDEOJUEGOS</th>\n",
              "      <th>FAMI_NUMLIBROS</th>\n",
              "      <th>FAMI_COMELECHEDERIVADOS</th>\n",
              "      <th>FAMI_COMECARNEPESCADOHUEVO</th>\n",
              "      <th>FAMI_COMECEREALFRUTOSLEGUMBRE</th>\n",
              "      <th>FAMI_SITUACIONECONOMICA</th>\n",
              "      <th>ESTU_DEDICACIONLECTURADIARIA</th>\n",
              "      <th>ESTU_DEDICACIONINTERNET</th>\n",
              "      <th>ESTU_HORASSEMANATRABAJA</th>\n",
              "      <th>ESTU_TIPOREMUNERACION</th>\n",
              "      <th>COLE_CODIGO_ICFES</th>\n",
              "      <th>...</th>\n",
              "      <th>COLE_NATURALEZA</th>\n",
              "      <th>COLE_CALENDARIO</th>\n",
              "      <th>COLE_BILINGUE</th>\n",
              "      <th>COLE_CARACTER</th>\n",
              "      <th>COLE_COD_DANE_SEDE</th>\n",
              "      <th>COLE_NOMBRE_SEDE</th>\n",
              "      <th>COLE_SEDE_PRINCIPAL</th>\n",
              "      <th>COLE_AREA_UBICACION</th>\n",
              "      <th>COLE_JORNADA</th>\n",
              "      <th>COLE_COD_MCPIO_UBICACION</th>\n",
              "      <th>COLE_MCPIO_UBICACION</th>\n",
              "      <th>COLE_COD_DEPTO_UBICACION</th>\n",
              "      <th>COLE_DEPTO_UBICACION</th>\n",
              "      <th>ESTU_PRIVADO_LIBERTAD</th>\n",
              "      <th>ESTU_COD_MCPIO_PRESENTACION</th>\n",
              "      <th>ESTU_MCPIO_PRESENTACION</th>\n",
              "      <th>ESTU_DEPTO_PRESENTACION</th>\n",
              "      <th>ESTU_COD_DEPTO_PRESENTACION</th>\n",
              "      <th>PUNT_LECTURA_CRITICA</th>\n",
              "      <th>PERCENTIL_LECTURA_CRITICA</th>\n",
              "      <th>DESEMP_LECTURA_CRITICA</th>\n",
              "      <th>PUNT_MATEMATICAS</th>\n",
              "      <th>PERCENTIL_MATEMATICAS</th>\n",
              "      <th>DESEMP_MATEMATICAS</th>\n",
              "      <th>PUNT_C_NATURALES</th>\n",
              "      <th>PERCENTIL_C_NATURALES</th>\n",
              "      <th>DESEMP_C_NATURALES</th>\n",
              "      <th>PUNT_SOCIALES_CIUDADANAS</th>\n",
              "      <th>PERCENTIL_SOCIALES_CIUDADANAS</th>\n",
              "      <th>DESEMP_SOCIALES_CIUDADANAS</th>\n",
              "      <th>PUNT_INGLES</th>\n",
              "      <th>PERCENTIL_INGLES</th>\n",
              "      <th>DESEMP_INGLES</th>\n",
              "      <th>PUNT_GLOBAL</th>\n",
              "      <th>PERCENTIL_GLOBAL</th>\n",
              "      <th>ESTU_NSE_ESTABLECIMIENTO</th>\n",
              "      <th>ESTU_INSE_INDIVIDUAL</th>\n",
              "      <th>ESTU_NSE_INDIVIDUAL</th>\n",
              "      <th>ESTU_ESTADOINVESTIGACION</th>\n",
              "      <th>ESTU_GENERACION-E</th>\n",
              "    </tr>\n",
              "  </thead>\n",
              "  <tbody>\n",
              "    <tr>\n",
              "      <th>0</th>\n",
              "      <td>CR</td>\n",
              "      <td>COLOMBIA</td>\n",
              "      <td>M</td>\n",
              "      <td>10/06/2002</td>\n",
              "      <td>20182</td>\n",
              "      <td>SB11201820408513</td>\n",
              "      <td>ESTUDIANTE</td>\n",
              "      <td>COLOMBIA</td>\n",
              "      <td>No</td>\n",
              "      <td>-</td>\n",
              "      <td>-</td>\n",
              "      <td>ATLANTICO</td>\n",
              "      <td>08</td>\n",
              "      <td>SOLEDAD</td>\n",
              "      <td>08758</td>\n",
              "      <td>Estrato 2</td>\n",
              "      <td>7 a 8</td>\n",
              "      <td>Cuatro</td>\n",
              "      <td>No sabe</td>\n",
              "      <td>No sabe</td>\n",
              "      <td>Es vendedor o trabaja en atención al público</td>\n",
              "      <td>Es vendedor o trabaja en atención al público</td>\n",
              "      <td>Si</td>\n",
              "      <td>Si</td>\n",
              "      <td>No</td>\n",
              "      <td>Si</td>\n",
              "      <td>No</td>\n",
              "      <td>No</td>\n",
              "      <td>Si</td>\n",
              "      <td>No</td>\n",
              "      <td>26 A 100 LIBROS</td>\n",
              "      <td>Todos o casi todos los días</td>\n",
              "      <td>Todos o casi todos los días</td>\n",
              "      <td>1 o 2 veces por semana</td>\n",
              "      <td>Igual</td>\n",
              "      <td>30 minutos o menos</td>\n",
              "      <td>Más de 3 horas</td>\n",
              "      <td>0</td>\n",
              "      <td>No</td>\n",
              "      <td>122432</td>\n",
              "      <td>...</td>\n",
              "      <td>OFICIAL</td>\n",
              "      <td>A</td>\n",
              "      <td>N</td>\n",
              "      <td>ACADÉMICO</td>\n",
              "      <td>108001002924</td>\n",
              "      <td>INST. EDUC. DIST. PARA EL DESARROLLO HUMANO  M...</td>\n",
              "      <td>S</td>\n",
              "      <td>URBANO</td>\n",
              "      <td>MAÑANA</td>\n",
              "      <td>8001</td>\n",
              "      <td>BARRANQUILLA</td>\n",
              "      <td>8</td>\n",
              "      <td>ATLANTICO</td>\n",
              "      <td>N</td>\n",
              "      <td>8001</td>\n",
              "      <td>BARRANQUILLA</td>\n",
              "      <td>ATLANTICO</td>\n",
              "      <td>8</td>\n",
              "      <td>63</td>\n",
              "      <td>84</td>\n",
              "      <td>3</td>\n",
              "      <td>69</td>\n",
              "      <td>95</td>\n",
              "      <td>3</td>\n",
              "      <td>54</td>\n",
              "      <td>67</td>\n",
              "      <td>2</td>\n",
              "      <td>57</td>\n",
              "      <td>76</td>\n",
              "      <td>3</td>\n",
              "      <td>65.0</td>\n",
              "      <td>90</td>\n",
              "      <td>A2</td>\n",
              "      <td>305</td>\n",
              "      <td>85</td>\n",
              "      <td>2.0</td>\n",
              "      <td>53.169929</td>\n",
              "      <td>NSE3</td>\n",
              "      <td>PUBLICAR</td>\n",
              "      <td>NO</td>\n",
              "    </tr>\n",
              "    <tr>\n",
              "      <th>1</th>\n",
              "      <td>TI</td>\n",
              "      <td>COLOMBIA</td>\n",
              "      <td>M</td>\n",
              "      <td>22/10/2000</td>\n",
              "      <td>20182</td>\n",
              "      <td>SB11201820541500</td>\n",
              "      <td>ESTUDIANTE</td>\n",
              "      <td>COLOMBIA</td>\n",
              "      <td>No</td>\n",
              "      <td>-</td>\n",
              "      <td>-</td>\n",
              "      <td>CORDOBA</td>\n",
              "      <td>23</td>\n",
              "      <td>LORICA</td>\n",
              "      <td>23417</td>\n",
              "      <td>Estrato 1</td>\n",
              "      <td>5 a 6</td>\n",
              "      <td>Dos</td>\n",
              "      <td>Secundaria (Bachillerato) completa</td>\n",
              "      <td>Primaria completa</td>\n",
              "      <td>Trabaja por cuenta propia (por ejemplo plomero...</td>\n",
              "      <td>Trabaja en el hogar, no trabaja o estudia</td>\n",
              "      <td>Si</td>\n",
              "      <td>Si</td>\n",
              "      <td>No</td>\n",
              "      <td>Si</td>\n",
              "      <td>No</td>\n",
              "      <td>No</td>\n",
              "      <td>Si</td>\n",
              "      <td>No</td>\n",
              "      <td>11 A 25 LIBROS</td>\n",
              "      <td>Nunca o rara vez comemos eso</td>\n",
              "      <td>1 o 2 veces por semana</td>\n",
              "      <td>1 o 2 veces por semana</td>\n",
              "      <td>Mejor</td>\n",
              "      <td>Entre 30 y 60 minutos</td>\n",
              "      <td>Entre 30 y 60 minutos</td>\n",
              "      <td>0</td>\n",
              "      <td>No</td>\n",
              "      <td>28704</td>\n",
              "      <td>...</td>\n",
              "      <td>OFICIAL</td>\n",
              "      <td>A</td>\n",
              "      <td>N</td>\n",
              "      <td>ACADÉMICO</td>\n",
              "      <td>123417001632</td>\n",
              "      <td>IE ANTONIO DE LA TORRE Y MIRANDA</td>\n",
              "      <td>S</td>\n",
              "      <td>URBANO</td>\n",
              "      <td>UNICA</td>\n",
              "      <td>23417</td>\n",
              "      <td>LORICA</td>\n",
              "      <td>23</td>\n",
              "      <td>CORDOBA</td>\n",
              "      <td>N</td>\n",
              "      <td>23417</td>\n",
              "      <td>LORICA</td>\n",
              "      <td>CORDOBA</td>\n",
              "      <td>23</td>\n",
              "      <td>54</td>\n",
              "      <td>54</td>\n",
              "      <td>3</td>\n",
              "      <td>50</td>\n",
              "      <td>48</td>\n",
              "      <td>2</td>\n",
              "      <td>50</td>\n",
              "      <td>53</td>\n",
              "      <td>2</td>\n",
              "      <td>40</td>\n",
              "      <td>28</td>\n",
              "      <td>1</td>\n",
              "      <td>48.0</td>\n",
              "      <td>46</td>\n",
              "      <td>A1</td>\n",
              "      <td>242</td>\n",
              "      <td>46</td>\n",
              "      <td>2.0</td>\n",
              "      <td>45.062853</td>\n",
              "      <td>NSE2</td>\n",
              "      <td>PUBLICAR</td>\n",
              "      <td>GENERACION E - GRATUIDAD</td>\n",
              "    </tr>\n",
              "    <tr>\n",
              "      <th>2</th>\n",
              "      <td>TI</td>\n",
              "      <td>COLOMBIA</td>\n",
              "      <td>M</td>\n",
              "      <td>19/12/2001</td>\n",
              "      <td>20182</td>\n",
              "      <td>SB11201820208467</td>\n",
              "      <td>ESTUDIANTE</td>\n",
              "      <td>COLOMBIA</td>\n",
              "      <td>No</td>\n",
              "      <td>-</td>\n",
              "      <td>-</td>\n",
              "      <td>VALLE</td>\n",
              "      <td>76</td>\n",
              "      <td>CALI</td>\n",
              "      <td>76001</td>\n",
              "      <td>Estrato 2</td>\n",
              "      <td>1 a 2</td>\n",
              "      <td>Dos</td>\n",
              "      <td>No sabe</td>\n",
              "      <td>Técnica o tecnológica incompleta</td>\n",
              "      <td>No sabe</td>\n",
              "      <td>Es vendedor o trabaja en atención al público</td>\n",
              "      <td>No</td>\n",
              "      <td>No</td>\n",
              "      <td>No</td>\n",
              "      <td>No</td>\n",
              "      <td>Si</td>\n",
              "      <td>No</td>\n",
              "      <td>No</td>\n",
              "      <td>No</td>\n",
              "      <td>26 A 100 LIBROS</td>\n",
              "      <td>1 o 2 veces por semana</td>\n",
              "      <td>3 a 5 veces por semana</td>\n",
              "      <td>1 o 2 veces por semana</td>\n",
              "      <td>Mejor</td>\n",
              "      <td>30 minutos o menos</td>\n",
              "      <td>Entre 30 y 60 minutos</td>\n",
              "      <td>0</td>\n",
              "      <td>No</td>\n",
              "      <td>112466</td>\n",
              "      <td>...</td>\n",
              "      <td>OFICIAL</td>\n",
              "      <td>A</td>\n",
              "      <td>N</td>\n",
              "      <td>TÉCNICO/ACADÉMICO</td>\n",
              "      <td>276001010994</td>\n",
              "      <td>FRANCISCO JOSE LLOREDA MERA - SEDE PRINCIPAL</td>\n",
              "      <td>S</td>\n",
              "      <td>RURAL</td>\n",
              "      <td>MAÑANA</td>\n",
              "      <td>76001</td>\n",
              "      <td>CALI</td>\n",
              "      <td>76</td>\n",
              "      <td>VALLE</td>\n",
              "      <td>N</td>\n",
              "      <td>76001</td>\n",
              "      <td>CALI</td>\n",
              "      <td>VALLE</td>\n",
              "      <td>76</td>\n",
              "      <td>59</td>\n",
              "      <td>72</td>\n",
              "      <td>3</td>\n",
              "      <td>43</td>\n",
              "      <td>28</td>\n",
              "      <td>2</td>\n",
              "      <td>46</td>\n",
              "      <td>40</td>\n",
              "      <td>2</td>\n",
              "      <td>45</td>\n",
              "      <td>43</td>\n",
              "      <td>2</td>\n",
              "      <td>47.0</td>\n",
              "      <td>42</td>\n",
              "      <td>A-</td>\n",
              "      <td>241</td>\n",
              "      <td>45</td>\n",
              "      <td>2.0</td>\n",
              "      <td>44.806936</td>\n",
              "      <td>NSE2</td>\n",
              "      <td>PUBLICAR</td>\n",
              "      <td>GENERACION E - GRATUIDAD</td>\n",
              "    </tr>\n",
              "    <tr>\n",
              "      <th>3</th>\n",
              "      <td>TI</td>\n",
              "      <td>COLOMBIA</td>\n",
              "      <td>M</td>\n",
              "      <td>20/10/2000</td>\n",
              "      <td>20182</td>\n",
              "      <td>SB11201820514682</td>\n",
              "      <td>ESTUDIANTE</td>\n",
              "      <td>COLOMBIA</td>\n",
              "      <td>No</td>\n",
              "      <td>-</td>\n",
              "      <td>-</td>\n",
              "      <td>BOYACA</td>\n",
              "      <td>15</td>\n",
              "      <td>TUNJA</td>\n",
              "      <td>15001</td>\n",
              "      <td>Estrato 3</td>\n",
              "      <td>3 a 4</td>\n",
              "      <td>Tres</td>\n",
              "      <td>No sabe</td>\n",
              "      <td>Educación profesional completa</td>\n",
              "      <td>No sabe</td>\n",
              "      <td>Es dueño de un negocio pequeño (tiene pocos em...</td>\n",
              "      <td>Si</td>\n",
              "      <td>Si</td>\n",
              "      <td>Si</td>\n",
              "      <td>Si</td>\n",
              "      <td>Si</td>\n",
              "      <td>Si</td>\n",
              "      <td>No</td>\n",
              "      <td>Si</td>\n",
              "      <td>MÁS DE 100 LIBROS</td>\n",
              "      <td>Todos o casi todos los días</td>\n",
              "      <td>Todos o casi todos los días</td>\n",
              "      <td>Todos o casi todos los días</td>\n",
              "      <td>Igual</td>\n",
              "      <td>30 minutos o menos</td>\n",
              "      <td>Más de 3 horas</td>\n",
              "      <td>0</td>\n",
              "      <td>No</td>\n",
              "      <td>134692</td>\n",
              "      <td>...</td>\n",
              "      <td>NO OFICIAL</td>\n",
              "      <td>A</td>\n",
              "      <td>-</td>\n",
              "      <td>ACADÉMICO</td>\n",
              "      <td>315001003772</td>\n",
              "      <td>INSTITUCION EDUCATIVA URIBESCO - SEDE PRINCIPAL</td>\n",
              "      <td>S</td>\n",
              "      <td>URBANO</td>\n",
              "      <td>MAÑANA</td>\n",
              "      <td>15001</td>\n",
              "      <td>TUNJA</td>\n",
              "      <td>15</td>\n",
              "      <td>BOYACA</td>\n",
              "      <td>N</td>\n",
              "      <td>15001</td>\n",
              "      <td>TUNJA</td>\n",
              "      <td>BOYACA</td>\n",
              "      <td>15</td>\n",
              "      <td>61</td>\n",
              "      <td>79</td>\n",
              "      <td>3</td>\n",
              "      <td>60</td>\n",
              "      <td>78</td>\n",
              "      <td>3</td>\n",
              "      <td>60</td>\n",
              "      <td>84</td>\n",
              "      <td>3</td>\n",
              "      <td>67</td>\n",
              "      <td>94</td>\n",
              "      <td>3</td>\n",
              "      <td>63.0</td>\n",
              "      <td>86</td>\n",
              "      <td>A2</td>\n",
              "      <td>310</td>\n",
              "      <td>87</td>\n",
              "      <td>3.0</td>\n",
              "      <td>73.630225</td>\n",
              "      <td>NSE4</td>\n",
              "      <td>PUBLICAR</td>\n",
              "      <td>NO</td>\n",
              "    </tr>\n",
              "    <tr>\n",
              "      <th>4</th>\n",
              "      <td>CC</td>\n",
              "      <td>COLOMBIA</td>\n",
              "      <td>M</td>\n",
              "      <td>16/11/1998</td>\n",
              "      <td>20182</td>\n",
              "      <td>SB11201820306251</td>\n",
              "      <td>ESTUDIANTE</td>\n",
              "      <td>COLOMBIA</td>\n",
              "      <td>No</td>\n",
              "      <td>-</td>\n",
              "      <td>-</td>\n",
              "      <td>BOGOTA</td>\n",
              "      <td>11</td>\n",
              "      <td>BOGOTÁ D.C.</td>\n",
              "      <td>11001</td>\n",
              "      <td>Estrato 2</td>\n",
              "      <td>7 a 8</td>\n",
              "      <td>Tres</td>\n",
              "      <td>No sabe</td>\n",
              "      <td>No sabe</td>\n",
              "      <td>No aplica</td>\n",
              "      <td>Trabaja en el hogar, no trabaja o estudia</td>\n",
              "      <td>Si</td>\n",
              "      <td>Si</td>\n",
              "      <td>No</td>\n",
              "      <td>Si</td>\n",
              "      <td>Si</td>\n",
              "      <td>No</td>\n",
              "      <td>No</td>\n",
              "      <td>No</td>\n",
              "      <td>MÁS DE 100 LIBROS</td>\n",
              "      <td>1 o 2 veces por semana</td>\n",
              "      <td>1 o 2 veces por semana</td>\n",
              "      <td>3 a 5 veces por semana</td>\n",
              "      <td>Igual</td>\n",
              "      <td>30 minutos o menos</td>\n",
              "      <td>Entre 1 y 3 horas</td>\n",
              "      <td>Menos de 10 horas</td>\n",
              "      <td>No</td>\n",
              "      <td>80051</td>\n",
              "      <td>...</td>\n",
              "      <td>NO OFICIAL</td>\n",
              "      <td>A</td>\n",
              "      <td>N</td>\n",
              "      <td>TÉCNICO/ACADÉMICO</td>\n",
              "      <td>311001050023</td>\n",
              "      <td>COLEGIO DE EDUCACIÓN TÉCNICA Y ACADÉMICA CELES...</td>\n",
              "      <td>S</td>\n",
              "      <td>URBANO</td>\n",
              "      <td>COMPLETA</td>\n",
              "      <td>11001</td>\n",
              "      <td>BOGOTÁ D.C.</td>\n",
              "      <td>11</td>\n",
              "      <td>BOGOTA</td>\n",
              "      <td>N</td>\n",
              "      <td>11001</td>\n",
              "      <td>BOGOTÁ D.C.</td>\n",
              "      <td>BOGOTA</td>\n",
              "      <td>11</td>\n",
              "      <td>56</td>\n",
              "      <td>64</td>\n",
              "      <td>3</td>\n",
              "      <td>51</td>\n",
              "      <td>53</td>\n",
              "      <td>3</td>\n",
              "      <td>48</td>\n",
              "      <td>45</td>\n",
              "      <td>2</td>\n",
              "      <td>49</td>\n",
              "      <td>55</td>\n",
              "      <td>2</td>\n",
              "      <td>56.0</td>\n",
              "      <td>71</td>\n",
              "      <td>A1</td>\n",
              "      <td>257</td>\n",
              "      <td>57</td>\n",
              "      <td>3.0</td>\n",
              "      <td>49.391007</td>\n",
              "      <td>NSE2</td>\n",
              "      <td>PUBLICAR</td>\n",
              "      <td>GENERACION E - GRATUIDAD</td>\n",
              "    </tr>\n",
              "    <tr>\n",
              "      <th>5</th>\n",
              "      <td>TI</td>\n",
              "      <td>COLOMBIA</td>\n",
              "      <td>F</td>\n",
              "      <td>14/03/2000</td>\n",
              "      <td>20182</td>\n",
              "      <td>SB11201820231418</td>\n",
              "      <td>ESTUDIANTE</td>\n",
              "      <td>COLOMBIA</td>\n",
              "      <td>Si</td>\n",
              "      <td>Otro grupo étnico minoritario</td>\n",
              "      <td>-</td>\n",
              "      <td>CHOCO</td>\n",
              "      <td>27</td>\n",
              "      <td>EL LITORAL DEL SAN JUAN</td>\n",
              "      <td>27250</td>\n",
              "      <td>-</td>\n",
              "      <td>9 o más</td>\n",
              "      <td>Dos</td>\n",
              "      <td>-</td>\n",
              "      <td>-</td>\n",
              "      <td>No aplica</td>\n",
              "      <td>No aplica</td>\n",
              "      <td>-</td>\n",
              "      <td>-</td>\n",
              "      <td>No</td>\n",
              "      <td>No</td>\n",
              "      <td>No</td>\n",
              "      <td>No</td>\n",
              "      <td>No</td>\n",
              "      <td>No</td>\n",
              "      <td>-</td>\n",
              "      <td>-</td>\n",
              "      <td>-</td>\n",
              "      <td>-</td>\n",
              "      <td>Igual</td>\n",
              "      <td>-</td>\n",
              "      <td>-</td>\n",
              "      <td>Más de 30 horas</td>\n",
              "      <td>No</td>\n",
              "      <td>114181</td>\n",
              "      <td>...</td>\n",
              "      <td>OFICIAL</td>\n",
              "      <td>A</td>\n",
              "      <td>N</td>\n",
              "      <td>TÉCNICO/ACADÉMICO</td>\n",
              "      <td>327361060015</td>\n",
              "      <td>IE INDÍGENA GERARDO CHIRIPUA VALENCIA - SEDE P...</td>\n",
              "      <td>S</td>\n",
              "      <td>RURAL</td>\n",
              "      <td>MAÑANA</td>\n",
              "      <td>27250</td>\n",
              "      <td>EL LITORAL DEL SAN JUAN</td>\n",
              "      <td>27</td>\n",
              "      <td>CHOCO</td>\n",
              "      <td>N</td>\n",
              "      <td>76109</td>\n",
              "      <td>BUENAVENTURA</td>\n",
              "      <td>VALLE</td>\n",
              "      <td>76</td>\n",
              "      <td>28</td>\n",
              "      <td>1</td>\n",
              "      <td>1</td>\n",
              "      <td>35</td>\n",
              "      <td>10</td>\n",
              "      <td>1</td>\n",
              "      <td>36</td>\n",
              "      <td>10</td>\n",
              "      <td>1</td>\n",
              "      <td>37</td>\n",
              "      <td>19</td>\n",
              "      <td>1</td>\n",
              "      <td>37.0</td>\n",
              "      <td>10</td>\n",
              "      <td>A-</td>\n",
              "      <td>171</td>\n",
              "      <td>4</td>\n",
              "      <td>2.0</td>\n",
              "      <td>30.516627</td>\n",
              "      <td>NSE1</td>\n",
              "      <td>PUBLICAR</td>\n",
              "      <td>NO</td>\n",
              "    </tr>\n",
              "    <tr>\n",
              "      <th>6</th>\n",
              "      <td>TI</td>\n",
              "      <td>COLOMBIA</td>\n",
              "      <td>M</td>\n",
              "      <td>21/11/2001</td>\n",
              "      <td>20182</td>\n",
              "      <td>SB11201820084292</td>\n",
              "      <td>ESTUDIANTE</td>\n",
              "      <td>COLOMBIA</td>\n",
              "      <td>Si</td>\n",
              "      <td>-</td>\n",
              "      <td>-</td>\n",
              "      <td>LA GUAJIRA</td>\n",
              "      <td>44</td>\n",
              "      <td>URIBIA</td>\n",
              "      <td>44847</td>\n",
              "      <td>Sin Estrato</td>\n",
              "      <td>7 a 8</td>\n",
              "      <td>Tres</td>\n",
              "      <td>Secundaria (Bachillerato) incompleta</td>\n",
              "      <td>Secundaria (Bachillerato) incompleta</td>\n",
              "      <td>No aplica</td>\n",
              "      <td>Trabaja en el hogar, no trabaja o estudia</td>\n",
              "      <td>No</td>\n",
              "      <td>No</td>\n",
              "      <td>No</td>\n",
              "      <td>No</td>\n",
              "      <td>No</td>\n",
              "      <td>No</td>\n",
              "      <td>Si</td>\n",
              "      <td>No</td>\n",
              "      <td>11 A 25 LIBROS</td>\n",
              "      <td>1 o 2 veces por semana</td>\n",
              "      <td>1 o 2 veces por semana</td>\n",
              "      <td>Nunca o rara vez comemos eso</td>\n",
              "      <td>Igual</td>\n",
              "      <td>Entre 30 y 60 minutos</td>\n",
              "      <td>30 minutos o menos</td>\n",
              "      <td>0</td>\n",
              "      <td>No</td>\n",
              "      <td>144220</td>\n",
              "      <td>...</td>\n",
              "      <td>OFICIAL</td>\n",
              "      <td>A</td>\n",
              "      <td>-</td>\n",
              "      <td>TÉCNICO/ACADÉMICO</td>\n",
              "      <td>244847001344</td>\n",
              "      <td>INSTITUCIÀN ETNOEDUCATIVA RURAL INTERNADO DE N...</td>\n",
              "      <td>S</td>\n",
              "      <td>RURAL</td>\n",
              "      <td>MAÑANA</td>\n",
              "      <td>44847</td>\n",
              "      <td>URIBIA</td>\n",
              "      <td>44</td>\n",
              "      <td>LA GUAJIRA</td>\n",
              "      <td>N</td>\n",
              "      <td>44847</td>\n",
              "      <td>URIBIA</td>\n",
              "      <td>LA GUAJIRA</td>\n",
              "      <td>44</td>\n",
              "      <td>45</td>\n",
              "      <td>24</td>\n",
              "      <td>2</td>\n",
              "      <td>49</td>\n",
              "      <td>46</td>\n",
              "      <td>2</td>\n",
              "      <td>45</td>\n",
              "      <td>35</td>\n",
              "      <td>2</td>\n",
              "      <td>33</td>\n",
              "      <td>9</td>\n",
              "      <td>1</td>\n",
              "      <td>50.0</td>\n",
              "      <td>53</td>\n",
              "      <td>A1</td>\n",
              "      <td>218</td>\n",
              "      <td>29</td>\n",
              "      <td>1.0</td>\n",
              "      <td>38.754034</td>\n",
              "      <td>NSE1</td>\n",
              "      <td>PUBLICAR</td>\n",
              "      <td>NO</td>\n",
              "    </tr>\n",
              "    <tr>\n",
              "      <th>7</th>\n",
              "      <td>TI</td>\n",
              "      <td>COLOMBIA</td>\n",
              "      <td>M</td>\n",
              "      <td>20/06/2001</td>\n",
              "      <td>20182</td>\n",
              "      <td>SB11201820546789</td>\n",
              "      <td>ESTUDIANTE</td>\n",
              "      <td>COLOMBIA</td>\n",
              "      <td>No</td>\n",
              "      <td>-</td>\n",
              "      <td>-</td>\n",
              "      <td>ATLANTICO</td>\n",
              "      <td>08</td>\n",
              "      <td>PUERTO COLOMBIA</td>\n",
              "      <td>08573</td>\n",
              "      <td>Sin Estrato</td>\n",
              "      <td>5 a 6</td>\n",
              "      <td>Dos</td>\n",
              "      <td>Secundaria (Bachillerato) completa</td>\n",
              "      <td>Secundaria (Bachillerato) completa</td>\n",
              "      <td>Es dueño de un negocio grande, tiene un cargo ...</td>\n",
              "      <td>Trabaja en el hogar, no trabaja o estudia</td>\n",
              "      <td>Si</td>\n",
              "      <td>Si</td>\n",
              "      <td>Si</td>\n",
              "      <td>Si</td>\n",
              "      <td>Si</td>\n",
              "      <td>Si</td>\n",
              "      <td>No</td>\n",
              "      <td>Si</td>\n",
              "      <td>0 A 10 LIBROS</td>\n",
              "      <td>Nunca o rara vez comemos eso</td>\n",
              "      <td>3 a 5 veces por semana</td>\n",
              "      <td>Nunca o rara vez comemos eso</td>\n",
              "      <td>Igual</td>\n",
              "      <td>No leo por entretenimiento</td>\n",
              "      <td>Entre 1 y 3 horas</td>\n",
              "      <td>Menos de 10 horas</td>\n",
              "      <td>Si, en efectivo</td>\n",
              "      <td>109033</td>\n",
              "      <td>...</td>\n",
              "      <td>OFICIAL</td>\n",
              "      <td>A</td>\n",
              "      <td>N</td>\n",
              "      <td>ACADÉMICO</td>\n",
              "      <td>208573000072</td>\n",
              "      <td>INSTITUCION EDUCATIVA EUSTORGIO SALGAR</td>\n",
              "      <td>S</td>\n",
              "      <td>RURAL</td>\n",
              "      <td>MAÑANA</td>\n",
              "      <td>8573</td>\n",
              "      <td>PUERTO COLOMBIA</td>\n",
              "      <td>8</td>\n",
              "      <td>ATLANTICO</td>\n",
              "      <td>N</td>\n",
              "      <td>8001</td>\n",
              "      <td>BARRANQUILLA</td>\n",
              "      <td>ATLANTICO</td>\n",
              "      <td>8</td>\n",
              "      <td>30</td>\n",
              "      <td>1</td>\n",
              "      <td>1</td>\n",
              "      <td>37</td>\n",
              "      <td>15</td>\n",
              "      <td>2</td>\n",
              "      <td>40</td>\n",
              "      <td>20</td>\n",
              "      <td>1</td>\n",
              "      <td>40</td>\n",
              "      <td>29</td>\n",
              "      <td>1</td>\n",
              "      <td>40.0</td>\n",
              "      <td>20</td>\n",
              "      <td>A-</td>\n",
              "      <td>185</td>\n",
              "      <td>9</td>\n",
              "      <td>2.0</td>\n",
              "      <td>54.122715</td>\n",
              "      <td>NSE3</td>\n",
              "      <td>PUBLICAR</td>\n",
              "      <td>NO</td>\n",
              "    </tr>\n",
              "    <tr>\n",
              "      <th>8</th>\n",
              "      <td>TI</td>\n",
              "      <td>COLOMBIA</td>\n",
              "      <td>M</td>\n",
              "      <td>26/06/2001</td>\n",
              "      <td>20182</td>\n",
              "      <td>SB11201820089757</td>\n",
              "      <td>ESTUDIANTE</td>\n",
              "      <td>COLOMBIA</td>\n",
              "      <td>No</td>\n",
              "      <td>-</td>\n",
              "      <td>-</td>\n",
              "      <td>CALDAS</td>\n",
              "      <td>17</td>\n",
              "      <td>MARQUETALIA</td>\n",
              "      <td>17444</td>\n",
              "      <td>Estrato 2</td>\n",
              "      <td>5 a 6</td>\n",
              "      <td>Cuatro</td>\n",
              "      <td>Primaria incompleta</td>\n",
              "      <td>Secundaria (Bachillerato) incompleta</td>\n",
              "      <td>Es agricultor, pesquero o jornalero</td>\n",
              "      <td>Trabaja en el hogar, no trabaja o estudia</td>\n",
              "      <td>No</td>\n",
              "      <td>Si</td>\n",
              "      <td>No</td>\n",
              "      <td>Si</td>\n",
              "      <td>No</td>\n",
              "      <td>No</td>\n",
              "      <td>Si</td>\n",
              "      <td>No</td>\n",
              "      <td>0 A 10 LIBROS</td>\n",
              "      <td>1 o 2 veces por semana</td>\n",
              "      <td>Todos o casi todos los días</td>\n",
              "      <td>Todos o casi todos los días</td>\n",
              "      <td>Igual</td>\n",
              "      <td>30 minutos o menos</td>\n",
              "      <td>Entre 30 y 60 minutos</td>\n",
              "      <td>Menos de 10 horas</td>\n",
              "      <td>Si, en efectivo</td>\n",
              "      <td>174656</td>\n",
              "      <td>...</td>\n",
              "      <td>OFICIAL</td>\n",
              "      <td>A</td>\n",
              "      <td>N</td>\n",
              "      <td>ACADÉMICO</td>\n",
              "      <td>217444000278</td>\n",
              "      <td>INSTITUCION EDUCATIVA PATIO BONITO - SEDE PRIN...</td>\n",
              "      <td>S</td>\n",
              "      <td>RURAL</td>\n",
              "      <td>COMPLETA</td>\n",
              "      <td>17444</td>\n",
              "      <td>MARQUETALIA</td>\n",
              "      <td>17</td>\n",
              "      <td>CALDAS</td>\n",
              "      <td>N</td>\n",
              "      <td>17444</td>\n",
              "      <td>MARQUETALIA</td>\n",
              "      <td>CALDAS</td>\n",
              "      <td>17</td>\n",
              "      <td>50</td>\n",
              "      <td>42</td>\n",
              "      <td>2</td>\n",
              "      <td>63</td>\n",
              "      <td>86</td>\n",
              "      <td>3</td>\n",
              "      <td>57</td>\n",
              "      <td>74</td>\n",
              "      <td>3</td>\n",
              "      <td>48</td>\n",
              "      <td>53</td>\n",
              "      <td>2</td>\n",
              "      <td>59.0</td>\n",
              "      <td>80</td>\n",
              "      <td>A2</td>\n",
              "      <td>274</td>\n",
              "      <td>68</td>\n",
              "      <td>1.0</td>\n",
              "      <td>40.687267</td>\n",
              "      <td>NSE1</td>\n",
              "      <td>PUBLICAR</td>\n",
              "      <td>NO</td>\n",
              "    </tr>\n",
              "    <tr>\n",
              "      <th>9</th>\n",
              "      <td>TI</td>\n",
              "      <td>COLOMBIA</td>\n",
              "      <td>M</td>\n",
              "      <td>20/11/2000</td>\n",
              "      <td>20182</td>\n",
              "      <td>SB11201820205097</td>\n",
              "      <td>ESTUDIANTE</td>\n",
              "      <td>COLOMBIA</td>\n",
              "      <td>No</td>\n",
              "      <td>-</td>\n",
              "      <td>-</td>\n",
              "      <td>BOYACA</td>\n",
              "      <td>15</td>\n",
              "      <td>DUITAMA</td>\n",
              "      <td>15238</td>\n",
              "      <td>Estrato 1</td>\n",
              "      <td>3 a 4</td>\n",
              "      <td>Uno</td>\n",
              "      <td>Primaria incompleta</td>\n",
              "      <td>Primaria incompleta</td>\n",
              "      <td>Es agricultor, pesquero o jornalero</td>\n",
              "      <td>Trabaja como personal de limpieza, mantenimien...</td>\n",
              "      <td>No</td>\n",
              "      <td>No</td>\n",
              "      <td>No</td>\n",
              "      <td>No</td>\n",
              "      <td>No</td>\n",
              "      <td>No</td>\n",
              "      <td>Si</td>\n",
              "      <td>No</td>\n",
              "      <td>11 A 25 LIBROS</td>\n",
              "      <td>3 a 5 veces por semana</td>\n",
              "      <td>1 o 2 veces por semana</td>\n",
              "      <td>3 a 5 veces por semana</td>\n",
              "      <td>Igual</td>\n",
              "      <td>Entre 30 y 60 minutos</td>\n",
              "      <td>30 minutos o menos</td>\n",
              "      <td>Menos de 10 horas</td>\n",
              "      <td>No</td>\n",
              "      <td>45443</td>\n",
              "      <td>...</td>\n",
              "      <td>OFICIAL</td>\n",
              "      <td>A</td>\n",
              "      <td>N</td>\n",
              "      <td>TÉCNICO/ACADÉMICO</td>\n",
              "      <td>215806000236</td>\n",
              "      <td>IE TECNICO INDUSTRIAL - SEDE PRINCIPAL</td>\n",
              "      <td>S</td>\n",
              "      <td>RURAL</td>\n",
              "      <td>COMPLETA</td>\n",
              "      <td>15806</td>\n",
              "      <td>TIBASOSA</td>\n",
              "      <td>15</td>\n",
              "      <td>BOYACA</td>\n",
              "      <td>N</td>\n",
              "      <td>15238</td>\n",
              "      <td>DUITAMA</td>\n",
              "      <td>BOYACA</td>\n",
              "      <td>15</td>\n",
              "      <td>43</td>\n",
              "      <td>19</td>\n",
              "      <td>2</td>\n",
              "      <td>51</td>\n",
              "      <td>53</td>\n",
              "      <td>3</td>\n",
              "      <td>50</td>\n",
              "      <td>55</td>\n",
              "      <td>2</td>\n",
              "      <td>50</td>\n",
              "      <td>59</td>\n",
              "      <td>2</td>\n",
              "      <td>48.0</td>\n",
              "      <td>43</td>\n",
              "      <td>A1</td>\n",
              "      <td>242</td>\n",
              "      <td>46</td>\n",
              "      <td>2.0</td>\n",
              "      <td>32.688767</td>\n",
              "      <td>NSE1</td>\n",
              "      <td>PUBLICAR</td>\n",
              "      <td>GENERACION E - GRATUIDAD</td>\n",
              "    </tr>\n",
              "  </tbody>\n",
              "</table>\n",
              "<p>10 rows × 83 columns</p>\n",
              "</div>"
            ],
            "text/plain": [
              "  ESTU_TIPODOCUMENTO  ...         ESTU_GENERACION-E\n",
              "0                 CR  ...                        NO\n",
              "1                 TI  ...  GENERACION E - GRATUIDAD\n",
              "2                 TI  ...  GENERACION E - GRATUIDAD\n",
              "3                 TI  ...                        NO\n",
              "4                 CC  ...  GENERACION E - GRATUIDAD\n",
              "5                 TI  ...                        NO\n",
              "6                 TI  ...                        NO\n",
              "7                 TI  ...                        NO\n",
              "8                 TI  ...                        NO\n",
              "9                 TI  ...  GENERACION E - GRATUIDAD\n",
              "\n",
              "[10 rows x 83 columns]"
            ]
          },
          "metadata": {
            "tags": []
          },
          "execution_count": 4
        }
      ]
    },
    {
      "cell_type": "markdown",
      "metadata": {
        "id": "FeQv9IDo_PdV",
        "colab_type": "text"
      },
      "source": [
        "### Definicion de variables o categorias "
      ]
    },
    {
      "cell_type": "markdown",
      "metadata": {
        "id": "SN02NdsI_XGj",
        "colab_type": "text"
      },
      "source": [
        "Con .iloc es posible escoger unicamente las columnas o variables con las que se desea trabajar, haciendo esto a traves de la ubicacion de las variables primeramente seleccionando con : todas las filas y ya luego las columnas. Por ejemplo en este caso la variable ESTU_MCPIO_RESIDE se encuentra en la posicion 13."
      ]
    },
    {
      "cell_type": "code",
      "metadata": {
        "id": "IwMvKcVPQztg",
        "colab_type": "code",
        "outputId": "3eb315fb-1bff-4e6d-89da-21a714a2b93e",
        "colab": {
          "base_uri": "https://localhost:8080/",
          "height": 359
        }
      },
      "source": [
        "pruebasSaber11_df = pruebasSaber11_df.iloc[:, [13,16, 22, 24, 64]]\n",
        "pruebasSaber11_df.head(10)"
      ],
      "execution_count": 5,
      "outputs": [
        {
          "output_type": "execute_result",
          "data": {
            "text/html": [
              "<div>\n",
              "<style scoped>\n",
              "    .dataframe tbody tr th:only-of-type {\n",
              "        vertical-align: middle;\n",
              "    }\n",
              "\n",
              "    .dataframe tbody tr th {\n",
              "        vertical-align: top;\n",
              "    }\n",
              "\n",
              "    .dataframe thead th {\n",
              "        text-align: right;\n",
              "    }\n",
              "</style>\n",
              "<table border=\"1\" class=\"dataframe\">\n",
              "  <thead>\n",
              "    <tr style=\"text-align: right;\">\n",
              "      <th></th>\n",
              "      <th>ESTU_MCPIO_RESIDE</th>\n",
              "      <th>FAMI_PERSONASHOGAR</th>\n",
              "      <th>FAMI_TIENEINTERNET</th>\n",
              "      <th>FAMI_TIENECOMPUTADOR</th>\n",
              "      <th>PUNT_MATEMATICAS</th>\n",
              "    </tr>\n",
              "  </thead>\n",
              "  <tbody>\n",
              "    <tr>\n",
              "      <th>0</th>\n",
              "      <td>SOLEDAD</td>\n",
              "      <td>7 a 8</td>\n",
              "      <td>Si</td>\n",
              "      <td>No</td>\n",
              "      <td>69</td>\n",
              "    </tr>\n",
              "    <tr>\n",
              "      <th>1</th>\n",
              "      <td>LORICA</td>\n",
              "      <td>5 a 6</td>\n",
              "      <td>Si</td>\n",
              "      <td>No</td>\n",
              "      <td>50</td>\n",
              "    </tr>\n",
              "    <tr>\n",
              "      <th>2</th>\n",
              "      <td>CALI</td>\n",
              "      <td>1 a 2</td>\n",
              "      <td>No</td>\n",
              "      <td>No</td>\n",
              "      <td>43</td>\n",
              "    </tr>\n",
              "    <tr>\n",
              "      <th>3</th>\n",
              "      <td>TUNJA</td>\n",
              "      <td>3 a 4</td>\n",
              "      <td>Si</td>\n",
              "      <td>Si</td>\n",
              "      <td>60</td>\n",
              "    </tr>\n",
              "    <tr>\n",
              "      <th>4</th>\n",
              "      <td>BOGOTÁ D.C.</td>\n",
              "      <td>7 a 8</td>\n",
              "      <td>Si</td>\n",
              "      <td>No</td>\n",
              "      <td>51</td>\n",
              "    </tr>\n",
              "    <tr>\n",
              "      <th>5</th>\n",
              "      <td>EL LITORAL DEL SAN JUAN</td>\n",
              "      <td>9 o más</td>\n",
              "      <td>-</td>\n",
              "      <td>No</td>\n",
              "      <td>35</td>\n",
              "    </tr>\n",
              "    <tr>\n",
              "      <th>6</th>\n",
              "      <td>URIBIA</td>\n",
              "      <td>7 a 8</td>\n",
              "      <td>No</td>\n",
              "      <td>No</td>\n",
              "      <td>49</td>\n",
              "    </tr>\n",
              "    <tr>\n",
              "      <th>7</th>\n",
              "      <td>PUERTO COLOMBIA</td>\n",
              "      <td>5 a 6</td>\n",
              "      <td>Si</td>\n",
              "      <td>Si</td>\n",
              "      <td>37</td>\n",
              "    </tr>\n",
              "    <tr>\n",
              "      <th>8</th>\n",
              "      <td>MARQUETALIA</td>\n",
              "      <td>5 a 6</td>\n",
              "      <td>No</td>\n",
              "      <td>No</td>\n",
              "      <td>63</td>\n",
              "    </tr>\n",
              "    <tr>\n",
              "      <th>9</th>\n",
              "      <td>DUITAMA</td>\n",
              "      <td>3 a 4</td>\n",
              "      <td>No</td>\n",
              "      <td>No</td>\n",
              "      <td>51</td>\n",
              "    </tr>\n",
              "  </tbody>\n",
              "</table>\n",
              "</div>"
            ],
            "text/plain": [
              "         ESTU_MCPIO_RESIDE  ... PUNT_MATEMATICAS\n",
              "0                  SOLEDAD  ...               69\n",
              "1                   LORICA  ...               50\n",
              "2                     CALI  ...               43\n",
              "3                    TUNJA  ...               60\n",
              "4              BOGOTÁ D.C.  ...               51\n",
              "5  EL LITORAL DEL SAN JUAN  ...               35\n",
              "6                   URIBIA  ...               49\n",
              "7          PUERTO COLOMBIA  ...               37\n",
              "8              MARQUETALIA  ...               63\n",
              "9                  DUITAMA  ...               51\n",
              "\n",
              "[10 rows x 5 columns]"
            ]
          },
          "metadata": {
            "tags": []
          },
          "execution_count": 5
        }
      ]
    },
    {
      "cell_type": "markdown",
      "metadata": {
        "id": "_PXw6WzrKxLp",
        "colab_type": "text"
      },
      "source": [
        "### Tipos de registros y valores nulos\n"
      ]
    },
    {
      "cell_type": "code",
      "metadata": {
        "id": "lKV4PnmmLUXH",
        "colab_type": "code",
        "outputId": "595219ac-ec43-44c2-9fdf-40925a00ef59",
        "colab": {
          "base_uri": "https://localhost:8080/",
          "height": 187
        }
      },
      "source": [
        "assert pruebasSaber11_df.notnull().all().all()\n",
        "pruebasSaber11_df.info()"
      ],
      "execution_count": 6,
      "outputs": [
        {
          "output_type": "stream",
          "text": [
            "<class 'pandas.core.frame.DataFrame'>\n",
            "RangeIndex: 549934 entries, 0 to 549933\n",
            "Data columns (total 5 columns):\n",
            "ESTU_MCPIO_RESIDE       549934 non-null object\n",
            "FAMI_PERSONASHOGAR      549934 non-null object\n",
            "FAMI_TIENEINTERNET      549934 non-null object\n",
            "FAMI_TIENECOMPUTADOR    549934 non-null object\n",
            "PUNT_MATEMATICAS        549934 non-null int64\n",
            "dtypes: int64(1), object(4)\n",
            "memory usage: 21.0+ MB\n"
          ],
          "name": "stdout"
        }
      ]
    },
    {
      "cell_type": "markdown",
      "metadata": {
        "id": "r5J856tFMKPj",
        "colab_type": "text"
      },
      "source": [
        "no se encontraron valores nulos en las variables escogidas \n"
      ]
    },
    {
      "cell_type": "markdown",
      "metadata": {
        "id": "iVnu8ZkgNTjg",
        "colab_type": "text"
      },
      "source": [
        "En PUNT_MATEMATICAS tenemos datos de tipo entero \n",
        "el resto de los registros son objetos\n"
      ]
    },
    {
      "cell_type": "markdown",
      "metadata": {
        "id": "I97riTf0aFqn",
        "colab_type": "text"
      },
      "source": [
        "### Media\n",
        "Luego de ello se extrae la media a nivel global de la unica varable que tenemos en este caso PUNT_MATEMATICAS de tipo numerico"
      ]
    },
    {
      "cell_type": "code",
      "metadata": {
        "id": "Ty9Bl0Y5ZFPr",
        "colab_type": "code",
        "outputId": "4396702c-ce0e-4674-efe3-e7e6e8b152d0",
        "colab": {
          "base_uri": "https://localhost:8080/",
          "height": 34
        }
      },
      "source": [
        " pruebasSaber11_df['PUNT_MATEMATICAS'].mean()"
      ],
      "execution_count": 7,
      "outputs": [
        {
          "output_type": "execute_result",
          "data": {
            "text/plain": [
              "50.191430244356596"
            ]
          },
          "metadata": {
            "tags": []
          },
          "execution_count": 7
        }
      ]
    },
    {
      "cell_type": "markdown",
      "metadata": {
        "id": "SRWkcgfBHXnV",
        "colab_type": "text"
      },
      "source": [
        "# Seleccion de renglones"
      ]
    },
    {
      "cell_type": "markdown",
      "metadata": {
        "id": "2-kt7FFCHmR7",
        "colab_type": "text"
      },
      "source": [
        "Se puede hacer la seleccion de renglones en los que se encuentre el municipio de Soacha \n",
        "A traves de .loc seleccionandolo en este caso por nombre a diferencia de .iloc que es por ubicacion "
      ]
    },
    {
      "cell_type": "code",
      "metadata": {
        "id": "1j8L2NuPD_e-",
        "colab_type": "code",
        "outputId": "f3d0a409-d681-4e5c-95f8-01f3800f1ff4",
        "colab": {
          "base_uri": "https://localhost:8080/",
          "height": 390
        }
      },
      "source": [
        "pruebasSaber11_df_s = pruebasSaber11_df.set_index(\"ESTU_MCPIO_RESIDE\", inplace=True)\n",
        "pruebasSaber11_df_s = pruebasSaber11_df.loc['SOACHA']\n",
        "pruebasSaber11_df_s.head(10)"
      ],
      "execution_count": 8,
      "outputs": [
        {
          "output_type": "execute_result",
          "data": {
            "text/html": [
              "<div>\n",
              "<style scoped>\n",
              "    .dataframe tbody tr th:only-of-type {\n",
              "        vertical-align: middle;\n",
              "    }\n",
              "\n",
              "    .dataframe tbody tr th {\n",
              "        vertical-align: top;\n",
              "    }\n",
              "\n",
              "    .dataframe thead th {\n",
              "        text-align: right;\n",
              "    }\n",
              "</style>\n",
              "<table border=\"1\" class=\"dataframe\">\n",
              "  <thead>\n",
              "    <tr style=\"text-align: right;\">\n",
              "      <th></th>\n",
              "      <th>FAMI_PERSONASHOGAR</th>\n",
              "      <th>FAMI_TIENEINTERNET</th>\n",
              "      <th>FAMI_TIENECOMPUTADOR</th>\n",
              "      <th>PUNT_MATEMATICAS</th>\n",
              "    </tr>\n",
              "    <tr>\n",
              "      <th>ESTU_MCPIO_RESIDE</th>\n",
              "      <th></th>\n",
              "      <th></th>\n",
              "      <th></th>\n",
              "      <th></th>\n",
              "    </tr>\n",
              "  </thead>\n",
              "  <tbody>\n",
              "    <tr>\n",
              "      <th>SOACHA</th>\n",
              "      <td>5 a 6</td>\n",
              "      <td>Si</td>\n",
              "      <td>No</td>\n",
              "      <td>67</td>\n",
              "    </tr>\n",
              "    <tr>\n",
              "      <th>SOACHA</th>\n",
              "      <td>3 a 4</td>\n",
              "      <td>No</td>\n",
              "      <td>No</td>\n",
              "      <td>46</td>\n",
              "    </tr>\n",
              "    <tr>\n",
              "      <th>SOACHA</th>\n",
              "      <td>9 o más</td>\n",
              "      <td>Si</td>\n",
              "      <td>Si</td>\n",
              "      <td>55</td>\n",
              "    </tr>\n",
              "    <tr>\n",
              "      <th>SOACHA</th>\n",
              "      <td>3 a 4</td>\n",
              "      <td>Si</td>\n",
              "      <td>Si</td>\n",
              "      <td>55</td>\n",
              "    </tr>\n",
              "    <tr>\n",
              "      <th>SOACHA</th>\n",
              "      <td>3 a 4</td>\n",
              "      <td>Si</td>\n",
              "      <td>Si</td>\n",
              "      <td>57</td>\n",
              "    </tr>\n",
              "    <tr>\n",
              "      <th>SOACHA</th>\n",
              "      <td>5 a 6</td>\n",
              "      <td>Si</td>\n",
              "      <td>Si</td>\n",
              "      <td>61</td>\n",
              "    </tr>\n",
              "    <tr>\n",
              "      <th>SOACHA</th>\n",
              "      <td>3 a 4</td>\n",
              "      <td>Si</td>\n",
              "      <td>Si</td>\n",
              "      <td>45</td>\n",
              "    </tr>\n",
              "    <tr>\n",
              "      <th>SOACHA</th>\n",
              "      <td>5 a 6</td>\n",
              "      <td>Si</td>\n",
              "      <td>Si</td>\n",
              "      <td>37</td>\n",
              "    </tr>\n",
              "    <tr>\n",
              "      <th>SOACHA</th>\n",
              "      <td>3 a 4</td>\n",
              "      <td>Si</td>\n",
              "      <td>Si</td>\n",
              "      <td>42</td>\n",
              "    </tr>\n",
              "    <tr>\n",
              "      <th>SOACHA</th>\n",
              "      <td>3 a 4</td>\n",
              "      <td>Si</td>\n",
              "      <td>Si</td>\n",
              "      <td>57</td>\n",
              "    </tr>\n",
              "  </tbody>\n",
              "</table>\n",
              "</div>"
            ],
            "text/plain": [
              "                  FAMI_PERSONASHOGAR  ... PUNT_MATEMATICAS\n",
              "ESTU_MCPIO_RESIDE                     ...                 \n",
              "SOACHA                         5 a 6  ...               67\n",
              "SOACHA                         3 a 4  ...               46\n",
              "SOACHA                       9 o más  ...               55\n",
              "SOACHA                         3 a 4  ...               55\n",
              "SOACHA                         3 a 4  ...               57\n",
              "SOACHA                         5 a 6  ...               61\n",
              "SOACHA                         3 a 4  ...               45\n",
              "SOACHA                         5 a 6  ...               37\n",
              "SOACHA                         3 a 4  ...               42\n",
              "SOACHA                         3 a 4  ...               57\n",
              "\n",
              "[10 rows x 4 columns]"
            ]
          },
          "metadata": {
            "tags": []
          },
          "execution_count": 8
        }
      ]
    },
    {
      "cell_type": "markdown",
      "metadata": {
        "id": "kn61FTj3Z_qS",
        "colab_type": "text"
      },
      "source": [
        "### Media"
      ]
    },
    {
      "cell_type": "markdown",
      "metadata": {
        "id": "e39OMamMVeJB",
        "colab_type": "text"
      },
      "source": [
        "Luego de ello se extrae la media a nivel de soacha "
      ]
    },
    {
      "cell_type": "code",
      "metadata": {
        "id": "R01cZ2QKOAgV",
        "colab_type": "code",
        "outputId": "38206d0b-6ee7-4cc9-87c2-5eeecbb72f6c",
        "colab": {
          "base_uri": "https://localhost:8080/",
          "height": 34
        }
      },
      "source": [
        " pruebasSaber11_df_s['PUNT_MATEMATICAS'].mean()"
      ],
      "execution_count": 9,
      "outputs": [
        {
          "output_type": "execute_result",
          "data": {
            "text/plain": [
              "51.16982131039047"
            ]
          },
          "metadata": {
            "tags": []
          },
          "execution_count": 9
        }
      ]
    },
    {
      "cell_type": "markdown",
      "metadata": {
        "id": "u8W6YO3ubEr_",
        "colab_type": "text"
      },
      "source": [
        "Podemos ver una diferencia de un 1.0 entre la media global y la media del municipio de soacha "
      ]
    },
    {
      "cell_type": "code",
      "metadata": {
        "id": "iNv3jK4DUc9H",
        "colab_type": "code",
        "colab": {
          "base_uri": "https://localhost:8080/",
          "height": 85
        },
        "outputId": "35b3ec2f-be11-4278-b444-ee630db8753c"
      },
      "source": [
        "pd.value_counts(pruebasSaber11_df_s['FAMI_TIENECOMPUTADOR'])"
      ],
      "execution_count": 17,
      "outputs": [
        {
          "output_type": "execute_result",
          "data": {
            "text/plain": [
              "Si    5394\n",
              "No    1987\n",
              "-      174\n",
              "Name: FAMI_TIENECOMPUTADOR, dtype: int64"
            ]
          },
          "metadata": {
            "tags": []
          },
          "execution_count": 17
        }
      ]
    },
    {
      "cell_type": "code",
      "metadata": {
        "id": "yKd7Zm8KWTEy",
        "colab_type": "code",
        "colab": {
          "base_uri": "https://localhost:8080/",
          "height": 85
        },
        "outputId": "26f86f81-ed1f-4a88-bcb1-d65050d5b31e"
      },
      "source": [
        "100 * pruebasSaber11_df_s['FAMI_TIENECOMPUTADOR'].value_counts() / len(pruebasSaber11_df_s['FAMI_TIENECOMPUTADOR'])"
      ],
      "execution_count": 20,
      "outputs": [
        {
          "output_type": "execute_result",
          "data": {
            "text/plain": [
              "Si    71.396426\n",
              "No    26.300463\n",
              "-      2.303111\n",
              "Name: FAMI_TIENECOMPUTADOR, dtype: float64"
            ]
          },
          "metadata": {
            "tags": []
          },
          "execution_count": 20
        }
      ]
    },
    {
      "cell_type": "code",
      "metadata": {
        "id": "YrZ-mKsYXJgy",
        "colab_type": "code",
        "colab": {
          "base_uri": "https://localhost:8080/",
          "height": 300
        },
        "outputId": "12e111ad-5e10-428e-921e-7ba337047be8"
      },
      "source": [
        "plot = pruebasSaber11_df_s['FAMI_TIENECOMPUTADOR'].value_counts().plot(kind='bar',\n",
        "                                            title='FAMI_TIENECOMPUTADOR')"
      ],
      "execution_count": 21,
      "outputs": [
        {
          "output_type": "display_data",
          "data": {
            "image/png": "[encoded data removed]",
            "text/plain": [
              "<Figure size 432x288 with 1 Axes>"
            ]
          },
          "metadata": {
            "tags": []
          }
        }
      ]
    },
    {
      "cell_type": "code",
      "metadata": {
        "id": "R5qNS2VxXnr3",
        "colab_type": "code",
        "colab": {
          "base_uri": "https://localhost:8080/",
          "height": 300
        },
        "outputId": "ce0af2d4-fba1-4052-fb6a-83744720aef4"
      },
      "source": [
        "plot = (100 * pruebasSaber11_df_s['FAMI_TIENECOMPUTADOR'].value_counts() / len(pruebasSaber11_df_s['FAMI_TIENECOMPUTADOR'])).plot(\n",
        "kind='bar', title='FAMI_TIENECOMPUTADOR %')"
      ],
      "execution_count": 28,
      "outputs": [
        {
          "output_type": "display_data",
          "data": {
            "image/png": "[encoded data removed]",
            "text/plain": [
              "<Figure size 432x288 with 1 Axes>"
            ]
          },
          "metadata": {
            "tags": []
          }
        }
      ]
    },
    {
      "cell_type": "code",
      "metadata": {
        "id": "1FeHIydVZkVW",
        "colab_type": "code",
        "colab": {
          "base_uri": "https://localhost:8080/",
          "height": 450
        },
        "outputId": "4189ddeb-d940-464c-ad02-067f7d58203b"
      },
      "source": [
        "pd.crosstab(index=pruebasSaber11_df_s['PUNT_MATEMATICAS'],\n",
        "            columns=pruebasSaber11_df_s['FAMI_TIENECOMPUTADOR'], margins=True)"
      ],
      "execution_count": 30,
      "outputs": [
        {
          "output_type": "execute_result",
          "data": {
            "text/html": [
              "<div>\n",
              "<style scoped>\n",
              "    .dataframe tbody tr th:only-of-type {\n",
              "        vertical-align: middle;\n",
              "    }\n",
              "\n",
              "    .dataframe tbody tr th {\n",
              "        vertical-align: top;\n",
              "    }\n",
              "\n",
              "    .dataframe thead th {\n",
              "        text-align: right;\n",
              "    }\n",
              "</style>\n",
              "<table border=\"1\" class=\"dataframe\">\n",
              "  <thead>\n",
              "    <tr style=\"text-align: right;\">\n",
              "      <th>FAMI_TIENECOMPUTADOR</th>\n",
              "      <th>-</th>\n",
              "      <th>No</th>\n",
              "      <th>Si</th>\n",
              "      <th>All</th>\n",
              "    </tr>\n",
              "    <tr>\n",
              "      <th>PUNT_MATEMATICAS</th>\n",
              "      <th></th>\n",
              "      <th></th>\n",
              "      <th></th>\n",
              "      <th></th>\n",
              "    </tr>\n",
              "  </thead>\n",
              "  <tbody>\n",
              "    <tr>\n",
              "      <th>15</th>\n",
              "      <td>1</td>\n",
              "      <td>0</td>\n",
              "      <td>0</td>\n",
              "      <td>1</td>\n",
              "    </tr>\n",
              "    <tr>\n",
              "      <th>20</th>\n",
              "      <td>0</td>\n",
              "      <td>0</td>\n",
              "      <td>1</td>\n",
              "      <td>1</td>\n",
              "    </tr>\n",
              "    <tr>\n",
              "      <th>21</th>\n",
              "      <td>0</td>\n",
              "      <td>2</td>\n",
              "      <td>0</td>\n",
              "      <td>2</td>\n",
              "    </tr>\n",
              "    <tr>\n",
              "      <th>22</th>\n",
              "      <td>1</td>\n",
              "      <td>4</td>\n",
              "      <td>3</td>\n",
              "      <td>8</td>\n",
              "    </tr>\n",
              "    <tr>\n",
              "      <th>23</th>\n",
              "      <td>0</td>\n",
              "      <td>1</td>\n",
              "      <td>5</td>\n",
              "      <td>6</td>\n",
              "    </tr>\n",
              "    <tr>\n",
              "      <th>...</th>\n",
              "      <td>...</td>\n",
              "      <td>...</td>\n",
              "      <td>...</td>\n",
              "      <td>...</td>\n",
              "    </tr>\n",
              "    <tr>\n",
              "      <th>84</th>\n",
              "      <td>0</td>\n",
              "      <td>2</td>\n",
              "      <td>0</td>\n",
              "      <td>2</td>\n",
              "    </tr>\n",
              "    <tr>\n",
              "      <th>85</th>\n",
              "      <td>0</td>\n",
              "      <td>0</td>\n",
              "      <td>1</td>\n",
              "      <td>1</td>\n",
              "    </tr>\n",
              "    <tr>\n",
              "      <th>86</th>\n",
              "      <td>0</td>\n",
              "      <td>0</td>\n",
              "      <td>1</td>\n",
              "      <td>1</td>\n",
              "    </tr>\n",
              "    <tr>\n",
              "      <th>100</th>\n",
              "      <td>0</td>\n",
              "      <td>0</td>\n",
              "      <td>1</td>\n",
              "      <td>1</td>\n",
              "    </tr>\n",
              "    <tr>\n",
              "      <th>All</th>\n",
              "      <td>174</td>\n",
              "      <td>1987</td>\n",
              "      <td>5394</td>\n",
              "      <td>7555</td>\n",
              "    </tr>\n",
              "  </tbody>\n",
              "</table>\n",
              "<p>69 rows × 4 columns</p>\n",
              "</div>"
            ],
            "text/plain": [
              "FAMI_TIENECOMPUTADOR    -    No    Si   All\n",
              "PUNT_MATEMATICAS                           \n",
              "15                      1     0     0     1\n",
              "20                      0     0     1     1\n",
              "21                      0     2     0     2\n",
              "22                      1     4     3     8\n",
              "23                      0     1     5     6\n",
              "...                   ...   ...   ...   ...\n",
              "84                      0     2     0     2\n",
              "85                      0     0     1     1\n",
              "86                      0     0     1     1\n",
              "100                     0     0     1     1\n",
              "All                   174  1987  5394  7555\n",
              "\n",
              "[69 rows x 4 columns]"
            ]
          },
          "metadata": {
            "tags": []
          },
          "execution_count": 30
        }
      ]
    },
    {
      "cell_type": "code",
      "metadata": {
        "id": "8WejNSfWabTC",
        "colab_type": "code",
        "colab": {
          "base_uri": "https://localhost:8080/",
          "height": 450
        },
        "outputId": "12a132c2-06ab-46cf-e8e1-cb383549286c"
      },
      "source": [
        "pd.crosstab(index=pruebasSaber11_df_s['PUNT_MATEMATICAS'], columns=pruebasSaber11_df_s['FAMI_TIENECOMPUTADOR'],\n",
        "            margins=True).apply(lambda r: r/len(pruebasSaber11_df_s) *100,\n",
        "                                axis=1)"
      ],
      "execution_count": 31,
      "outputs": [
        {
          "output_type": "execute_result",
          "data": {
            "text/html": [
              "<div>\n",
              "<style scoped>\n",
              "    .dataframe tbody tr th:only-of-type {\n",
              "        vertical-align: middle;\n",
              "    }\n",
              "\n",
              "    .dataframe tbody tr th {\n",
              "        vertical-align: top;\n",
              "    }\n",
              "\n",
              "    .dataframe thead th {\n",
              "        text-align: right;\n",
              "    }\n",
              "</style>\n",
              "<table border=\"1\" class=\"dataframe\">\n",
              "  <thead>\n",
              "    <tr style=\"text-align: right;\">\n",
              "      <th>FAMI_TIENECOMPUTADOR</th>\n",
              "      <th>-</th>\n",
              "      <th>No</th>\n",
              "      <th>Si</th>\n",
              "      <th>All</th>\n",
              "    </tr>\n",
              "    <tr>\n",
              "      <th>PUNT_MATEMATICAS</th>\n",
              "      <th></th>\n",
              "      <th></th>\n",
              "      <th></th>\n",
              "      <th></th>\n",
              "    </tr>\n",
              "  </thead>\n",
              "  <tbody>\n",
              "    <tr>\n",
              "      <th>15</th>\n",
              "      <td>0.013236</td>\n",
              "      <td>0.000000</td>\n",
              "      <td>0.000000</td>\n",
              "      <td>0.013236</td>\n",
              "    </tr>\n",
              "    <tr>\n",
              "      <th>20</th>\n",
              "      <td>0.000000</td>\n",
              "      <td>0.000000</td>\n",
              "      <td>0.013236</td>\n",
              "      <td>0.013236</td>\n",
              "    </tr>\n",
              "    <tr>\n",
              "      <th>21</th>\n",
              "      <td>0.000000</td>\n",
              "      <td>0.026473</td>\n",
              "      <td>0.000000</td>\n",
              "      <td>0.026473</td>\n",
              "    </tr>\n",
              "    <tr>\n",
              "      <th>22</th>\n",
              "      <td>0.013236</td>\n",
              "      <td>0.052945</td>\n",
              "      <td>0.039709</td>\n",
              "      <td>0.105890</td>\n",
              "    </tr>\n",
              "    <tr>\n",
              "      <th>23</th>\n",
              "      <td>0.000000</td>\n",
              "      <td>0.013236</td>\n",
              "      <td>0.066181</td>\n",
              "      <td>0.079418</td>\n",
              "    </tr>\n",
              "    <tr>\n",
              "      <th>...</th>\n",
              "      <td>...</td>\n",
              "      <td>...</td>\n",
              "      <td>...</td>\n",
              "      <td>...</td>\n",
              "    </tr>\n",
              "    <tr>\n",
              "      <th>84</th>\n",
              "      <td>0.000000</td>\n",
              "      <td>0.026473</td>\n",
              "      <td>0.000000</td>\n",
              "      <td>0.026473</td>\n",
              "    </tr>\n",
              "    <tr>\n",
              "      <th>85</th>\n",
              "      <td>0.000000</td>\n",
              "      <td>0.000000</td>\n",
              "      <td>0.013236</td>\n",
              "      <td>0.013236</td>\n",
              "    </tr>\n",
              "    <tr>\n",
              "      <th>86</th>\n",
              "      <td>0.000000</td>\n",
              "      <td>0.000000</td>\n",
              "      <td>0.013236</td>\n",
              "      <td>0.013236</td>\n",
              "    </tr>\n",
              "    <tr>\n",
              "      <th>100</th>\n",
              "      <td>0.000000</td>\n",
              "      <td>0.000000</td>\n",
              "      <td>0.013236</td>\n",
              "      <td>0.013236</td>\n",
              "    </tr>\n",
              "    <tr>\n",
              "      <th>All</th>\n",
              "      <td>2.303111</td>\n",
              "      <td>26.300463</td>\n",
              "      <td>71.396426</td>\n",
              "      <td>100.000000</td>\n",
              "    </tr>\n",
              "  </tbody>\n",
              "</table>\n",
              "<p>69 rows × 4 columns</p>\n",
              "</div>"
            ],
            "text/plain": [
              "FAMI_TIENECOMPUTADOR         -         No         Si         All\n",
              "PUNT_MATEMATICAS                                                \n",
              "15                    0.013236   0.000000   0.000000    0.013236\n",
              "20                    0.000000   0.000000   0.013236    0.013236\n",
              "21                    0.000000   0.026473   0.000000    0.026473\n",
              "22                    0.013236   0.052945   0.039709    0.105890\n",
              "23                    0.000000   0.013236   0.066181    0.079418\n",
              "...                        ...        ...        ...         ...\n",
              "84                    0.000000   0.026473   0.000000    0.026473\n",
              "85                    0.000000   0.000000   0.013236    0.013236\n",
              "86                    0.000000   0.000000   0.013236    0.013236\n",
              "100                   0.000000   0.000000   0.013236    0.013236\n",
              "All                   2.303111  26.300463  71.396426  100.000000\n",
              "\n",
              "[69 rows x 4 columns]"
            ]
          },
          "metadata": {
            "tags": []
          },
          "execution_count": 31
        }
      ]
    },
    {
      "cell_type": "code",
      "metadata": {
        "id": "uf9gUb5PbFdK",
        "colab_type": "code",
        "colab": {
          "base_uri": "https://localhost:8080/",
          "height": 450
        },
        "outputId": "8683f8cd-0c43-4415-b4e9-ec00bfcffd21"
      },
      "source": [
        "pd.crosstab(index=pruebasSaber11_df_s['PUNT_MATEMATICAS'], columns=pruebasSaber11_df_s['FAMI_TIENECOMPUTADOR']\n",
        "           ).apply(lambda r: r/r.sum() *100,\n",
        "                                axis=1)"
      ],
      "execution_count": 33,
      "outputs": [
        {
          "output_type": "execute_result",
          "data": {
            "text/html": [
              "<div>\n",
              "<style scoped>\n",
              "    .dataframe tbody tr th:only-of-type {\n",
              "        vertical-align: middle;\n",
              "    }\n",
              "\n",
              "    .dataframe tbody tr th {\n",
              "        vertical-align: top;\n",
              "    }\n",
              "\n",
              "    .dataframe thead th {\n",
              "        text-align: right;\n",
              "    }\n",
              "</style>\n",
              "<table border=\"1\" class=\"dataframe\">\n",
              "  <thead>\n",
              "    <tr style=\"text-align: right;\">\n",
              "      <th>FAMI_TIENECOMPUTADOR</th>\n",
              "      <th>-</th>\n",
              "      <th>No</th>\n",
              "      <th>Si</th>\n",
              "    </tr>\n",
              "    <tr>\n",
              "      <th>PUNT_MATEMATICAS</th>\n",
              "      <th></th>\n",
              "      <th></th>\n",
              "      <th></th>\n",
              "    </tr>\n",
              "  </thead>\n",
              "  <tbody>\n",
              "    <tr>\n",
              "      <th>15</th>\n",
              "      <td>100.0</td>\n",
              "      <td>0.000000</td>\n",
              "      <td>0.000000</td>\n",
              "    </tr>\n",
              "    <tr>\n",
              "      <th>20</th>\n",
              "      <td>0.0</td>\n",
              "      <td>0.000000</td>\n",
              "      <td>100.000000</td>\n",
              "    </tr>\n",
              "    <tr>\n",
              "      <th>21</th>\n",
              "      <td>0.0</td>\n",
              "      <td>100.000000</td>\n",
              "      <td>0.000000</td>\n",
              "    </tr>\n",
              "    <tr>\n",
              "      <th>22</th>\n",
              "      <td>12.5</td>\n",
              "      <td>50.000000</td>\n",
              "      <td>37.500000</td>\n",
              "    </tr>\n",
              "    <tr>\n",
              "      <th>23</th>\n",
              "      <td>0.0</td>\n",
              "      <td>16.666667</td>\n",
              "      <td>83.333333</td>\n",
              "    </tr>\n",
              "    <tr>\n",
              "      <th>...</th>\n",
              "      <td>...</td>\n",
              "      <td>...</td>\n",
              "      <td>...</td>\n",
              "    </tr>\n",
              "    <tr>\n",
              "      <th>82</th>\n",
              "      <td>0.0</td>\n",
              "      <td>100.000000</td>\n",
              "      <td>0.000000</td>\n",
              "    </tr>\n",
              "    <tr>\n",
              "      <th>84</th>\n",
              "      <td>0.0</td>\n",
              "      <td>100.000000</td>\n",
              "      <td>0.000000</td>\n",
              "    </tr>\n",
              "    <tr>\n",
              "      <th>85</th>\n",
              "      <td>0.0</td>\n",
              "      <td>0.000000</td>\n",
              "      <td>100.000000</td>\n",
              "    </tr>\n",
              "    <tr>\n",
              "      <th>86</th>\n",
              "      <td>0.0</td>\n",
              "      <td>0.000000</td>\n",
              "      <td>100.000000</td>\n",
              "    </tr>\n",
              "    <tr>\n",
              "      <th>100</th>\n",
              "      <td>0.0</td>\n",
              "      <td>0.000000</td>\n",
              "      <td>100.000000</td>\n",
              "    </tr>\n",
              "  </tbody>\n",
              "</table>\n",
              "<p>68 rows × 3 columns</p>\n",
              "</div>"
            ],
            "text/plain": [
              "FAMI_TIENECOMPUTADOR      -          No          Si\n",
              "PUNT_MATEMATICAS                                   \n",
              "15                    100.0    0.000000    0.000000\n",
              "20                      0.0    0.000000  100.000000\n",
              "21                      0.0  100.000000    0.000000\n",
              "22                     12.5   50.000000   37.500000\n",
              "23                      0.0   16.666667   83.333333\n",
              "...                     ...         ...         ...\n",
              "82                      0.0  100.000000    0.000000\n",
              "84                      0.0  100.000000    0.000000\n",
              "85                      0.0    0.000000  100.000000\n",
              "86                      0.0    0.000000  100.000000\n",
              "100                     0.0    0.000000  100.000000\n",
              "\n",
              "[68 rows x 3 columns]"
            ]
          },
          "metadata": {
            "tags": []
          },
          "execution_count": 33
        }
      ]
    },
    {
      "cell_type": "code",
      "metadata": {
        "id": "CZfPu7gtbmHf",
        "colab_type": "code",
        "colab": {
          "base_uri": "https://localhost:8080/",
          "height": 1000
        },
        "outputId": "62cca3ab-16e0-4e85-cbfd-fcd416b985de"
      },
      "source": [
        "plot = pd.crosstab(index=pruebasSaber11_df_s['FAMI_TIENECOMPUTADOR'],\n",
        "            columns=pruebasSaber11_df_s['PUNT_MATEMATICAS']).apply(lambda r: r/r.sum() *100,\n",
        "                                              axis=1).plot(kind='bar')"
      ],
      "execution_count": 35,
      "outputs": [
        {
          "output_type": "display_data",
          "data": {
            "image/png": "[encoded data removed]",
            "text/plain": [
              "<Figure size 432x288 with 1 Axes>"
            ]
          },
          "metadata": {
            "tags": []
          }
        }
      ]
    },
    {
      "cell_type": "code",
      "metadata": {
        "id": "8QyPfA7kcLyk",
        "colab_type": "code",
        "colab": {
          "base_uri": "https://localhost:8080/",
          "height": 311
        },
        "outputId": "04f76414-d5e5-4a58-f104-99a4f40582c5"
      },
      "source": [
        "plot = pd.crosstab(index=pruebasSaber11_df_s['PUNT_MATEMATICAS'],\n",
        "            columns=pruebasSaber11_df_s['FAMI_TIENECOMPUTADOR']\n",
        "                  ).apply(lambda r: r/r.sum() *100,\n",
        "                          axis=0).plot(kind='bar', stacked=True)"
      ],
      "execution_count": 36,
      "outputs": [
        {
          "output_type": "display_data",
          "data": {
            "image/png": "[encoded data removed]",
            "text/plain": [
              "<Figure size 432x288 with 1 Axes>"
            ]
          },
          "metadata": {
            "tags": []
          }
        }
      ]
    },
    {
      "cell_type": "code",
      "metadata": {
        "id": "f-_clJfHU9ZF",
        "colab_type": "code",
        "colab": {
          "base_uri": "https://localhost:8080/",
          "height": 85
        },
        "outputId": "4567f381-7809-43bc-d63b-c27c0eed43c5"
      },
      "source": [
        "pd.value_counts(pruebasSaber11_df_s['FAMI_TIENEINTERNET'])"
      ],
      "execution_count": 18,
      "outputs": [
        {
          "output_type": "execute_result",
          "data": {
            "text/plain": [
              "Si    5643\n",
              "No    1478\n",
              "-      434\n",
              "Name: FAMI_TIENEINTERNET, dtype: int64"
            ]
          },
          "metadata": {
            "tags": []
          },
          "execution_count": 18
        }
      ]
    },
    {
      "cell_type": "code",
      "metadata": {
        "id": "moPhNE-yVHvz",
        "colab_type": "code",
        "colab": {
          "base_uri": "https://localhost:8080/",
          "height": 136
        },
        "outputId": "037dde79-9962-4e9a-a69a-573f1f72d7a9"
      },
      "source": [
        "pd.value_counts(pruebasSaber11_df_s['FAMI_PERSONASHOGAR'])"
      ],
      "execution_count": 19,
      "outputs": [
        {
          "output_type": "execute_result",
          "data": {
            "text/plain": [
              "3 a 4      3951\n",
              "5 a 6      2275\n",
              "1 a 2       548\n",
              "7 a 8       437\n",
              "9 o más     176\n",
              "-           168\n",
              "Name: FAMI_PERSONASHOGAR, dtype: int64"
            ]
          },
          "metadata": {
            "tags": []
          },
          "execution_count": 19
        }
      ]
    },
    {
      "cell_type": "code",
      "metadata": {
        "id": "_JxQUeAxQZaM",
        "colab_type": "code",
        "outputId": "08050fcc-6451-4a62-fb39-08d896c7fb87",
        "colab": {
          "base_uri": "https://localhost:8080/",
          "height": 315
        }
      },
      "source": [
        "sns.countplot(data=pruebasSaber11_df_s, x=\"PUNT_MATEMATICAS\", hue=\"FAMI_TIENECOMPUTADOR\")\n"
      ],
      "execution_count": 14,
      "outputs": [
        {
          "output_type": "execute_result",
          "data": {
            "text/plain": [
              "<matplotlib.axes._subplots.AxesSubplot at 0x7f7247d2c4e0>"
            ]
          },
          "metadata": {
            "tags": []
          },
          "execution_count": 14
        },
        {
          "output_type": "display_data",
          "data": {
            "image/png": "[encoded data removed]",
            "text/plain": [
              "<Figure size 432x288 with 1 Axes>"
            ]
          },
          "metadata": {
            "tags": []
          }
        }
      ]
    }
  ]
}